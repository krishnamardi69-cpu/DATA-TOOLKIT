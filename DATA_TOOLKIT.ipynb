{
  "nbformat": 4,
  "nbformat_minor": 0,
  "metadata": {
    "colab": {
      "provenance": []
    },
    "kernelspec": {
      "name": "python3",
      "display_name": "Python 3"
    },
    "language_info": {
      "name": "python"
    }
  },
  "cells": [
    {
      "cell_type": "markdown",
      "source": [
        "# DATA TOOL ASSIGENMENT\n",
        "# THEORY QUESTIONS:\n",
        "\n",
        "Q1-What is numPy, and why is it widely used in python?\n",
        "\n",
        "A1-NumPy (Numerical Python) is a powerful Python library for numerical computing. It provides support for:\n",
        "\n",
        "Multidimensional arrays (ndarrays) – Efficient storage & manipulation of large datasets.\n",
        "\n",
        "Mathematical functions – Optimized operations (linear algebra, Fourier transforms, statistics, etc.).\n",
        "\n",
        "Speed & Performance – Built in C, making it much faster than native Python lists.\n",
        "\n",
        "NumPy (Numerical Python) is a powerful Python library for numerical computing. It provides support for:\n",
        "\n",
        "Multidimensional arrays (ndarrays) – Efficient storage & manipulation of large datasets.\n",
        "\n",
        "Mathematical functions – Optimized operations (linear algebra, Fourier transforms, statistics, etc.).\n",
        "\n",
        "Speed & Performance – Built in C, making it much faster than native Python lists.\n",
        "\n",
        "Q2-How does broadcasting work in numpy?\n",
        "\n",
        "A2-Broadcasting is a powerful NumPy feature that allows arithmetic operations between arrays of different shapes by automatically expanding smaller arrays to match larger ones without copying data.\n",
        "\n",
        "Q3-What is a Pandas DataFrame?\n",
        "\n",
        "A3-A Pandas DataFrame is a 2-dimensional labeled table used for storing and manipulating data in Python. You can think of it like an Excel spreadsheet or a SQL table—with rows and columns, where each column can have a different data type (integers, strings, dates, etc.).\n",
        "\n",
        "Q4-Explain the use of the groupby() method in pandas?\n",
        "\n",
        "A4-The groupby() method in Pandas is super useful when you want to group your data based on one or more columns, and then perform operations like sum, mean, count, etc., on each group.\n",
        "\n",
        "Q5-Why is Seaborn preferred for statistical visualizations?\n",
        "\n",
        "A5-Seaborn is a popular data visualization library in Python that's built on top of Matplotlib. It's specifically designed to make statistical visualizations easier and more beautiful.\n",
        "\n",
        "Q6-What are the differences between NumPy arrays and python lists?\n",
        "\n",
        "A6--NumPy Array: Best for numerical and scientific computing, supports advanced mathematical operations, and is highly efficient. Python List: More versatile and flexible, suitable for general purposes, supports heterogeneous elements, but less efficient for numerical operations.\n",
        "\n",
        "Q7-What is heatmap, and when should it be used?\n",
        "\n",
        "A7- A heatmap is a data visualization technique that uses color variations to represent the magnitude of individual values in a dataset. It's particularly useful for showing patterns and correlations in large, complex datasets, making it easier to identify hotspots and trends. Heatmaps are commonly used in fields like website analytics, biology, and social sciences. When to use a heatmap: Data Visualization: When you have a large dataset with two or more variables and want to quickly grasp patterns and correlations. Website/App Optimization: To understand how users interact with a website or app, such as where they click, scroll, or hover.\n",
        "\n",
        "Q8-What does the term \"vectorized operation\" mean in NumPY ?\n",
        "\n",
        "A8-In NumPy, a vectorized operation refers to performing an operation on entire arrays (or array sections) instead of processing individual elements sequentially using loops. This approach leverages optimized, pre-compiled C or Fortran code under the hood, resulting in significantly faster execution times, especially for large datasets. Vectorization is a core concept in NumPy and is fundamental to its efficiency. It allows for concise and readable code while maximizing performance.\n",
        "\n",
        "Q9-How does Matplotib differ from Plotly?\n",
        "\n",
        "A9-If you need highly customizable, static visualizations for reports, papers, or non-interactive mediums, 🎯 Matplotlib is your go-to. If you're building interactive dashboards or web applications and want to quickly generate interactive plots, ✨ Plotly Express is your friend.\n",
        "\n",
        "Q10-What is the significance of hierarchical indexing in pandas?\n",
        "\n",
        "A10-Hierarchical indexing (also called MultiIndexing) allows you to have multiple levels of indexes on rows (and/or columns). This makes it possible to work with higher-dimensional data in a lower-dimensional (2D) DataFrame.\n",
        "\n",
        "Q11-What is the role of seaborn's pairplot() function?\n",
        "\n",
        "A11-seaborn.pairplot() creates a grid of scatter plots and histograms to show pairwise relationships between variables in a dataset. It’s super useful for exploratory data analysis (EDA).\n",
        "\n",
        "Q12-What is the purpose of the describe() function in pandas?\n",
        "\n",
        "A12-The describe() function in pandas is used to generate summary statistics of a DataFrame or Series.\n",
        "\n",
        "Q13-Why is handling missing data important in pandas?\n",
        "\n",
        "A13-Handling missing data in pandas is crucial because it directly impacts the accuracy and reliability of data analysis and modeling. Missing data, often represented as NaN (Not a Number) in pandas, can arise from various sources, such as data entry errors, incomplete records, or system failures. If left unaddressed, it can lead to several problems:\n",
        "\n",
        "Q14-What are the benefits of using plotly for data visualization?\n",
        "\n",
        "A14-Plotly offers several advantages for data visualization, including its ease of use, interactive features, wide range of chart types, and customization options. It allows for the creation of engaging visualizations that can be shared online or embedded in web applications. Additionally, Plotly excels at detecting outliers in large datasets and is well-suited for conveying insights from data.\n",
        "\n",
        "Q15-How does numpy handle multidimentional arrays?\n",
        "\n",
        "A15-NumPy handles multidimensional arrays using a powerful object called a ndarray (short for N-dimensional array). These arrays can have any number of dimensions, from 1D (vectors) to 2D (matrices), 3D, and beyond.\n",
        "\n",
        "Q16-What is the role of bokeh in data visualization?\n",
        "\n",
        "A16-Bokeh is a Python library that enables the creation of interactive visualizations for web browsers, offering tools to build beautiful and dynamic charts and dashboards for various data types. It's particularly well-suited for projects involving large, dynamic datasets or those requiring interactive exploration and analysis.\n",
        "\n",
        "Q17-Explain the difference between apply() and map() in pandas?\n",
        "\n",
        "A17-map() and apply() are both used for applying functions to Pandas Series or DataFrames, but they operate differently and are suited for different tasks. map(): Works on a Pandas Series, applying a function element-wise. It's ideal for simple one-to-one mappings, where each value in the Series is transformed independently. It accepts a function, a dictionary, or a Series for mapping values. It is faster for element-wise operations on a single column. apply(): Can be used on both Series and DataFrames. For Series, it behaves similarly to map(), applying a function element-wise. For DataFrames, it applies a function along an axis (rows or columns). It's more flexible than map() and can handle more complex operations, including those that involve multiple columns or rows. It can be slower than map() for simple element-wise transformations due to its added flexibility.\n",
        "\n",
        "Q18-What are some advanced features of numpy?\n",
        "\n",
        "A18-🔸Comprehensive Functionality: Extensive mathematical, statistical, and linear algebra operations. 🔸Ease of Use: It has an Intuitive API and strong integration with other Python libraries. 🔸Advanced Features: Broadcasting, vectorization, and complex array manipulations.9 Mar 2025\n",
        "\n",
        "Q19-How does pandas simplify time series analysis?\n",
        "\n",
        "A19-Pandas streamlines time series analysis through its specialized data structures and functionalities. The Series and DataFrame objects can be indexed by time, enabling intuitive slicing, indexing, and resampling operations. Pandas automatically handles date parsing, and offers tools for handling time zones, calculating rolling statistics, and shifting or lagging data. These features greatly simplify common time series tasks, making analysis more efficient.\n",
        "\n",
        "Q20-What is the role of a pivot table in pandas?\n",
        "\n",
        "A20-A pivot table in pandas is used to summarize and reorganize data. It lets you group, aggregate, and restructure your DataFrame in a very flexible way.\n",
        "\n",
        "It’s like the Python version of an Excel pivot table — super powerful for exploratory data analysis.\n",
        "\n",
        "Q21-Why is numpy's array slicing faster than python's list slicing?\n",
        "\n",
        "A21-Numpy array slicing is faster than Python list slicing due to several factors: Homogeneous Data Type: NumPy arrays store elements of the same data type, which allows for more efficient memory storage and access. Python lists, on the other hand, can store elements of different data types, requiring additional overhead for type checking and memory management. Contiguous Memory Allocation: NumPy arrays are stored in contiguous memory blocks, meaning elements are located next to each other. This allows for faster access and manipulation of elements, as the program can easily calculate the memory address of any element. Python lists, however, do not guarantee contiguous memory allocation, which can lead to slower access times.\n",
        "\n",
        "Q22-What are some common use cases for seaborn?\n",
        "\n",
        "A22-Seaborn is a Python data visualization library built on top of Matplotlib, commonly used for statistical data visualization. Some common use cases for Seaborn include: Exploring relationships between variables: Scatter plots, line plots, and pair plots can be used to visualize the relationships between two or more variables in a dataset. Comparing distributions: Box plots, violin plots, histograms, and KDE plots help compare the distribution of one or more variables, potentially across different categories. Visualizing categorical data: Bar plots, count plots, and swarm plots are useful for visualizing categorical data and comparing the frequencies of different categories. Representing uncertainty: Error bars and confidence intervals can be added to plots to represent the uncertainty in the data."
      ],
      "metadata": {
        "id": "6QSlA8GX6yuh"
      }
    },
    {
      "cell_type": "markdown",
      "source": [
        "# **PRACTICAL QUESTIONS:**\n",
        "\n"
      ],
      "metadata": {
        "id": "dIj-vxmN7vNI"
      }
    },
    {
      "cell_type": "code",
      "source": [
        "#Q1- How do you create a 2D Numpy array and calculate the sum of each row?\n",
        "import numpy as np\n",
        "\n",
        "# Create a 2D NumPy array (3 rows, 4 columns)\n",
        "arr = np.array([[1, 2, 3, 4],\n",
        "                [5, 6, 7, 8],\n",
        "                [9, 10, 11, 12]])\n",
        "\n",
        "print(arr)"
      ],
      "metadata": {
        "colab": {
          "base_uri": "https://localhost:8080/"
        },
        "id": "yHvuw7Bf75dW",
        "outputId": "14d08ab9-8b6f-4de7-9acc-4f34b09b43b0"
      },
      "execution_count": 1,
      "outputs": [
        {
          "output_type": "stream",
          "name": "stdout",
          "text": [
            "[[ 1  2  3  4]\n",
            " [ 5  6  7  8]\n",
            " [ 9 10 11 12]]\n"
          ]
        }
      ]
    },
    {
      "cell_type": "code",
      "source": [
        "#Q2- Write a pandas script to find the mean of a specific column in a dataframe?\n",
        "import pandas as pd\n",
        "\n",
        "# Create a sample DataFrame\n",
        "data = {\n",
        "    'Name': ['Yash', 'Bharat', 'shubham', 'ayush', 'raj'],\n",
        "    'Age': [25, 30, 35, 40, 45],\n",
        "    'Salary': [50000, 55000, 60000, 65000, 70000]\n",
        "}\n",
        "\n",
        "df = pd.DataFrame(data)\n",
        "print(df)"
      ],
      "metadata": {
        "id": "88qAU18H8C5E"
      },
      "execution_count": null,
      "outputs": []
    },
    {
      "cell_type": "code",
      "source": [
        "#Q3- Create a scatter plot using matplotib?\n",
        "import matplotlib.pyplot as plt\n",
        "\n",
        "# Create sample data\n",
        "x = [1, 2, 3, 4, 5]\n",
        "y = [2, 3, 5, 7, 11]\n",
        "\n",
        "# Create a scatter plot\n",
        "plt.scatter(x, y, color='blue', s=100, alpha=0.7, edgecolors='black')\n",
        "\n",
        "# Add titles and labels\n",
        "plt.title('Scatter Plot Example')\n",
        "plt.xlabel('X-axis Label')\n",
        "plt.ylabel('Y-axis Label')\n",
        "\n",
        "# Add grid lines\n",
        "plt.grid(True)\n",
        "\n",
        "# Show the plot\n",
        "plt.show()\n",
        "\n",
        "# Optionally, save the plot to a file\n",
        "plt.savefig('scatter_plot_example.png')"
      ],
      "metadata": {
        "id": "E1QxBYRW8JBk"
      },
      "execution_count": null,
      "outputs": []
    },
    {
      "cell_type": "code",
      "source": [
        "#Q4- How do you calculate the correlation matrix using seaborn and visualize iw with a heatmap?\n",
        "import pandas as pd\n",
        "import seaborn as sns\n",
        "import matplotlib.pyplot as plt\n",
        "import numpy as np\n",
        "\n",
        "# Sample DataFrame (replace with your actual data)\n",
        "data = {\n",
        "    'A': np.random.rand(10),\n",
        "    'B': np.random.rand(10),\n",
        "    'C': np.random.rand(10)\n",
        "}\n",
        "df = pd.DataFrame(data)\n",
        "\n",
        "# 1. Calculate the correlation matrix\n",
        "correlation_matrix = df.corr()\n",
        "\n",
        "# 2. Visualize as a heatmap\n",
        "plt.figure(figsize=(8, 6))\n",
        "sns.heatmap(correlation_matrix, annot=True, cmap='coolwarm')\n",
        "plt.title(\"Correlation Matrix Heatmap\")\n",
        "plt.show()"
      ],
      "metadata": {
        "colab": {
          "base_uri": "https://localhost:8080/",
          "height": 545
        },
        "id": "b3o_AUK68Pq5",
        "outputId": "68212206-4b49-45a4-88fc-6396775da69d"
      },
      "execution_count": 6,
      "outputs": [
        {
          "output_type": "display_data",
          "data": {
            "text/plain": [
              "<Figure size 800x600 with 2 Axes>"
            ],
            "image/png": "[encoded data removed]"
          },
          "metadata": {}
        }
      ]
    },
    {
      "cell_type": "code",
      "source": [
        "#Q5- Generate a bar plot using plotly?\n",
        "import plotly.graph_objects as go\n",
        "\n",
        "# Data for the bar plot\n",
        "categories = ['Category 1', 'Category 2', 'Category 3', 'Category 4', 'Category 5']\n",
        "values = [10, 15, 7, 20, 13]\n",
        "\n",
        "# Create the bar plot\n",
        "fig = go.Figure(data=[go.Bar(x=categories, y=values)])\n",
        "\n",
        "# Update the layout\n",
        "fig.update_layout(title='Bar Plot Example', xaxis_title='Categories', yaxis_title='Values')\n",
        "\n",
        "# Show the plot\n",
        "fig.show()\n"
      ],
      "metadata": {
        "id": "lgzAVfyy8YIl"
      },
      "execution_count": null,
      "outputs": []
    },
    {
      "cell_type": "code",
      "source": [
        "#Q6-Create a dataframe and add a new column based on an existing column?\n",
        "import pandas as pd\n",
        "\n",
        "# Create a sample DataFrame\n",
        "data = {\n",
        "    'Name': ['YASH', 'BHARAT', 'SHUBHAM ', 'SHIVAM'],\n",
        "    'Age': [25, 30, 35, 40]\n",
        "}\n",
        "df = pd.DataFrame(data)\n",
        "\n",
        "# Add a new column based on an existing column\n",
        "df['Age in 5 Years'] = df['Age'] + 5\n",
        "\n",
        "# Display the DataFrame\n",
        "print(df)"
      ],
      "metadata": {
        "id": "ViYanOrc8jyz"
      },
      "execution_count": null,
      "outputs": []
    },
    {
      "cell_type": "code",
      "source": [
        "#Q7-Write a program to perform element-wise multiplication of two numpy arrays?\n",
        "import numpy as np\n",
        "\n",
        "# Step 1: Create two NumPy arrays\n",
        "array1 = np.array([1, 2, 3, 4])\n",
        "array2 = np.array([5, 6, 7, 8])\n",
        "\n",
        "# Step 2: Perform element-wise multiplication\n",
        "result = array1 * array2  # or you can use np.multiply(array1, array2)\n",
        "\n",
        "# Step 3: Display the result\n",
        "print(\"Array 1:\", array1)\n",
        "print(\"Array 2:\", array2)\n",
        "print(\"Element-wise multiplication result:\", result)"
      ],
      "metadata": {
        "id": "7H6uvU9u8o-z"
      },
      "execution_count": null,
      "outputs": []
    },
    {
      "cell_type": "code",
      "source": [
        "#Q8- Create a line plot with multiple lines using matplotib.\n",
        "import matplotlib.pyplot as plt\n",
        "\n",
        "# Step 1: Create sample data\n",
        "x = [1, 2, 3, 4, 5]\n",
        "y1 = [2, 3, 5, 7, 11]  # First line\n",
        "y2 = [1, 4, 6, 8, 10]  # Second line\n",
        "y3 = [3, 5, 2, 4, 6]   # Third line\n",
        "\n",
        "# Step 2: Create the line plot\n",
        "plt.plot(x, y1, label='Line 1', marker='o')  # First line with markers\n",
        "plt.plot(x, y2, label='Line 2', marker='s')  # Second line with square markers\n",
        "plt.plot(x, y3, label='Line 3', marker='^')  # Third line with triangle markers\n",
        "\n",
        "# Step 3: Customize the plot\n",
        "plt.title('Multiple Line Plot Example')\n",
        "plt.xlabel('X-axis Label')\n",
        "plt.ylabel('Y-axis Label')\n",
        "plt.legend()  # Show legend\n",
        "plt.grid(True)  # Add grid lines\n",
        "\n",
        "# Step 4: Show the plot\n",
        "plt.show()"
      ],
      "metadata": {
        "id": "YNEg_qCZ8xKL"
      },
      "execution_count": null,
      "outputs": []
    },
    {
      "cell_type": "code",
      "source": [
        "#Q9- Generate a pandas dataframe and filter rows where a column value is greater than a threshold?\n",
        "import pandas as pd\n",
        "\n",
        "# Step 1: Create a sample DataFrame\n",
        "data = {\n",
        "    'Name': ['yash', 'bharat', 'shubham', 'sara', 'oshin'],\n",
        "    'Age': [25, 30, 35, 15, 22],\n",
        "    'Score': [85, 90, 78, 88, 95]\n",
        "}\n",
        "df = pd.DataFrame(data)\n",
        "\n",
        "# Step 2: Define the threshold\n",
        "threshold = 30\n",
        "\n",
        "# Step 3: Filter rows where 'Age' is greater than the threshold\n",
        "filtered_df = df[df['Age'] > threshold]\n",
        "\n",
        "# Step 4: Display the filtered DataFrame\n",
        "print(\"Filtered DataFrame (Age > 30):\")\n",
        "print(filtered_df)\n",
        ""
      ],
      "metadata": {
        "id": "XhkOQZq584qc"
      },
      "execution_count": null,
      "outputs": []
    },
    {
      "cell_type": "code",
      "source": [
        "#Q10- Create a histogram using seaborn to visalize a distribution?\n",
        "import seaborn as sns\n",
        "import matplotlib.pyplot as plt\n",
        "import numpy as np\n",
        "\n",
        "# Step 1: Create sample data\n",
        "# Generating random data from a normal distribution\n",
        "data = np.random.normal(loc=0, scale=1, size=1000)  # mean=0, std=1, n=1000\n",
        "\n",
        "# Step 2: Create the histogram\n",
        "sns.histplot(data, bins=30, kde=True)  # kde=True adds a kernel density estimate\n",
        "\n",
        "# Step 3: Customize the plot\n",
        "plt.title('Histogram of Normally Distributed Data')\n",
        "plt.xlabel('Value')\n",
        "plt.ylabel('Frequency')\n",
        "\n",
        "# Step 4: Show the plot\n",
        "plt.show()\n",
        ""
      ],
      "metadata": {
        "id": "DaOYCbKL9BL5"
      },
      "execution_count": null,
      "outputs": []
    },
    {
      "cell_type": "code",
      "source": [
        "#Q11- Perform matrix multiplicaton using numpy?\n",
        "import numpy as np\n",
        "\n",
        "# Step 1: Create two matrices (2D arrays)\n",
        "matrix_a = np.array([[1, 2, 3],\n",
        "                     [4, 5, 6]])\n",
        "\n",
        "matrix_b = np.array([[7, 8],\n",
        "                     [9, 10],\n",
        "                     [11, 12]])\n",
        "\n",
        "# Step 2: Perform matrix multiplication using the @ operator\n",
        "result = matrix_a @ matrix_b\n",
        "\n",
        "# Alternatively, you can use numpy.dot()\n",
        "# result = np.dot(matrix_a, matrix_b)\n",
        "\n",
        "# Step 3: Display the result\n",
        "print(\"Matrix A:\")\n",
        "print(matrix_a)\n",
        "print(\"\\nMatrix B:\")\n",
        "print(matrix_b)\n",
        "print(\"\\nResult of Matrix Multiplication (A @ B):\")\n",
        "print(result)"
      ],
      "metadata": {
        "id": "nU2A7T7y9HRV"
      },
      "execution_count": null,
      "outputs": []
    },
    {
      "cell_type": "code",
      "source": [
        "#Q12-Use pandas to load a CSV file and display its first 5 row?\n",
        "import pandas as pd\n",
        "\n",
        "# Create some sample data\n",
        "data = {\n",
        "    'Name': ['Alice', 'Bob', 'Charlie', 'David', 'Eve'],\n",
        "    'Age': [24, 30, 22, 35, 28],\n",
        "    'City': ['New York', 'Los Angeles', 'Chicago', 'Houston', 'Phoenix']\n",
        "}\n",
        "\n",
        "# Convert the dictionary to a DataFrame\n",
        "df = pd.DataFrame(data)\n",
        "\n",
        "# Save it to a CSV file\n",
        "df.to_csv('sample.csv', index=False)\n",
        "# Load the CSV file\n",
        "df_loaded = pd.read_csv('sample.csv')\n",
        "\n",
        "# Display the first 5 rows\n",
        "print(df_loaded.head())\n",
        "print(df.info())\n",
        "print(df.describe())\n",
        "print(df.isnull().sum())\n",
        "print(df.sort_values(by='Age'))\n",
        "older_than_25 = df[df['Age'] > 25]\n",
        "print(older_than_25)\n",
        "df['Age_in_5_years'] = df['Age'] + 5\n",
        "print(df)\n",
        "import matplotlib.pyplot as plt\n",
        "\n",
        "plt.bar(df['Name'], df['Age'])\n",
        "plt.xlabel('Name')\n",
        "plt.ylabel('Age')\n",
        "plt.title('Age of People')\n",
        "plt.show()\n",
        "\n",
        "\n",
        ""
      ],
      "metadata": {
        "colab": {
          "base_uri": "https://localhost:8080/",
          "height": 1000
        },
        "id": "wcmuK2i99UNQ",
        "outputId": "5d76a268-f9b8-4859-f2b5-ed627c722b99"
      },
      "execution_count": 5,
      "outputs": [
        {
          "output_type": "stream",
          "name": "stdout",
          "text": [
            "      Name  Age         City\n",
            "0    Alice   24     New York\n",
            "1      Bob   30  Los Angeles\n",
            "2  Charlie   22      Chicago\n",
            "3    David   35      Houston\n",
            "4      Eve   28      Phoenix\n",
            "<class 'pandas.core.frame.DataFrame'>\n",
            "RangeIndex: 5 entries, 0 to 4\n",
            "Data columns (total 3 columns):\n",
            " #   Column  Non-Null Count  Dtype \n",
            "---  ------  --------------  ----- \n",
            " 0   Name    5 non-null      object\n",
            " 1   Age     5 non-null      int64 \n",
            " 2   City    5 non-null      object\n",
            "dtypes: int64(1), object(2)\n",
            "memory usage: 252.0+ bytes\n",
            "None\n",
            "             Age\n",
            "count   5.000000\n",
            "mean   27.800000\n",
            "std     5.118594\n",
            "min    22.000000\n",
            "25%    24.000000\n",
            "50%    28.000000\n",
            "75%    30.000000\n",
            "max    35.000000\n",
            "Name    0\n",
            "Age     0\n",
            "City    0\n",
            "dtype: int64\n",
            "      Name  Age         City\n",
            "2  Charlie   22      Chicago\n",
            "0    Alice   24     New York\n",
            "4      Eve   28      Phoenix\n",
            "1      Bob   30  Los Angeles\n",
            "3    David   35      Houston\n",
            "    Name  Age         City\n",
            "1    Bob   30  Los Angeles\n",
            "3  David   35      Houston\n",
            "4    Eve   28      Phoenix\n",
            "      Name  Age         City  Age_in_5_years\n",
            "0    Alice   24     New York              29\n",
            "1      Bob   30  Los Angeles              35\n",
            "2  Charlie   22      Chicago              27\n",
            "3    David   35      Houston              40\n",
            "4      Eve   28      Phoenix              33\n"
          ]
        },
        {
          "output_type": "display_data",
          "data": {
            "text/plain": [
              "<Figure size 640x480 with 1 Axes>"
            ],
            "image/png": "[encoded data removed]"
          },
          "metadata": {}
        }
      ]
    },
    {
      "cell_type": "code",
      "source": [
        "#Q13- Create a 3D scatter plot using plotly?\n",
        "import plotly.express as px\n",
        "import pandas as pd\n",
        "\n",
        "# Prepare the data\n",
        "data = {\n",
        "    'x': [1, 2, 3, 4, 5],\n",
        "    'y': [5, 4, 3, 2, 1],\n",
        "    'z': [2, 3, 4, 5, 6]\n",
        "}\n",
        "df = pd.DataFrame(data)\n",
        "\n",
        "# Create the 3D scatter plot\n",
        "fig = px.scatter_3d(df, x='x', y='y', z='z', color='z', size='z', title='3D Scatter Plot Example')\n",
        "\n",
        "# Show the plot\n",
        "fig.show()\n",
        ""
      ],
      "metadata": {
        "id": "ImQcc0XB-ZJe"
      },
      "execution_count": null,
      "outputs": []
    }
  ]
}